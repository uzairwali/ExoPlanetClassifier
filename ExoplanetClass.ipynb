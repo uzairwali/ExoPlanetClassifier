{
 "cells": [
  {
   "cell_type": "markdown",
   "metadata": {},
   "source": [
    "##### Import Libraries"
   ]
  },
  {
   "cell_type": "code",
   "execution_count": 1,
   "metadata": {},
   "outputs": [
    {
     "name": "stderr",
     "output_type": "stream",
     "text": [
      "C:\\Users\\uzair\\Anaconda3\\lib\\site-packages\\h5py\\__init__.py:34: FutureWarning: Conversion of the second argument of issubdtype from `float` to `np.floating` is deprecated. In future, it will be treated as `np.float64 == np.dtype(float).type`.\n",
      "  from ._conv import register_converters as _register_converters\n",
      "Using TensorFlow backend.\n"
     ]
    }
   ],
   "source": [
    "import numpy as np\n",
    "import pandas as pd\n",
    "from sklearn.preprocessing import LabelEncoder\n",
    "from sklearn.model_selection import train_test_split\n",
    "from keras.models import Model\n",
    "from keras.layers import Input, PReLU, Dense, LSTM, multiply, concatenate, Activation, Flatten\n",
    "from keras.layers import Conv1D, BatchNormalization, GlobalAveragePooling1D, Permute, Dropout, Bidirectional\n",
    "from sklearn.metrics import classification_report\n",
    "from sklearn.preprocessing import MinMaxScaler\n",
    "from sklearn.metrics import confusion_matrix\n",
    "from keras.callbacks import EarlyStopping\n",
    "from keras.utils import np_utils\n",
    "from keras.optimizers import Adam, SGD\n",
    "import matplotlib.pyplot as plt\n",
    "from sklearn.metrics import roc_curve, roc_auc_score"
   ]
  },
  {
   "cell_type": "markdown",
   "metadata": {},
   "source": [
    "##### Label encoder (1/2 -> 0/1) and separate label from train and test"
   ]
  },
  {
   "cell_type": "code",
   "execution_count": 2,
   "metadata": {
    "collapsed": true
   },
   "outputs": [],
   "source": [
    "raw_data = np.loadtxt('exoTrain.csv', skiprows=1, delimiter=',')\n",
    "x_train = raw_data[:, 1:]\n",
    "y_train = raw_data[:, 0, np.newaxis] - 1.\n",
    "raw_data = np.loadtxt('exoTest.csv', skiprows=1, delimiter=',')\n",
    "x_test = raw_data[:, 1:]\n",
    "y_test = raw_data[:, 0, np.newaxis] - 1.\n",
    "del raw_data"
   ]
  },
  {
   "cell_type": "markdown",
   "metadata": {},
   "source": [
    "##### Scaling"
   ]
  },
  {
   "cell_type": "code",
   "execution_count": 3,
   "metadata": {
    "collapsed": true
   },
   "outputs": [],
   "source": [
    "x_train = ((x_train - np.mean(x_train, axis=1).reshape(-1,1)) / \n",
    "           np.std(x_train, axis=1).reshape(-1,1))\n",
    "x_test = ((x_test - np.mean(x_test, axis=1).reshape(-1,1)) / \n",
    "          np.std(x_test, axis=1).reshape(-1,1))"
   ]
  },
  {
   "cell_type": "code",
   "execution_count": 4,
   "metadata": {
    "collapsed": true
   },
   "outputs": [],
   "source": [
    "y_uniques = np.unique(y_train)\n",
    "n_classes = len(y_uniques)"
   ]
  },
  {
   "cell_type": "markdown",
   "metadata": {},
   "source": [
    "##### Add validation set (split train set)"
   ]
  },
  {
   "cell_type": "code",
   "execution_count": 5,
   "metadata": {
    "collapsed": true
   },
   "outputs": [],
   "source": [
    "X_train, X_val, y_train, y_val = train_test_split(x_train, y_train, stratify=y_train,\n",
    "                                                  test_size=0.3, random_state=123)"
   ]
  },
  {
   "cell_type": "markdown",
   "metadata": {},
   "source": [
    "#### Shapes"
   ]
  },
  {
   "cell_type": "code",
   "execution_count": 6,
   "metadata": {
    "collapsed": true
   },
   "outputs": [],
   "source": [
    "np.set_printoptions(threshold=np.inf)"
   ]
  },
  {
   "cell_type": "code",
   "execution_count": 7,
   "metadata": {
    "collapsed": true
   },
   "outputs": [],
   "source": [
    "X_train_r = np.expand_dims(X_train, axis=2)\n",
    "X_val_r = np.expand_dims(X_val, axis=2)\n",
    "x_test = np.expand_dims(x_test, axis=2)"
   ]
  },
  {
   "cell_type": "markdown",
   "metadata": {},
   "source": [
    "#### Create model"
   ]
  },
  {
   "cell_type": "code",
   "execution_count": 8,
   "metadata": {
    "collapsed": true
   },
   "outputs": [],
   "source": [
    "ip = Input(shape=(3197, 1))"
   ]
  },
  {
   "cell_type": "markdown",
   "metadata": {},
   "source": [
    "##### LSTM"
   ]
  },
  {
   "cell_type": "code",
   "execution_count": 9,
   "metadata": {
    "collapsed": true
   },
   "outputs": [],
   "source": [
    "x = Permute((2, 1))(ip)"
   ]
  },
  {
   "cell_type": "code",
   "execution_count": 10,
   "metadata": {
    "collapsed": true
   },
   "outputs": [],
   "source": [
    "x = Bidirectional(LSTM(8))(x)"
   ]
  },
  {
   "cell_type": "code",
   "execution_count": 11,
   "metadata": {
    "collapsed": true
   },
   "outputs": [],
   "source": [
    "x = Dropout(0.8)(x)"
   ]
  },
  {
   "cell_type": "markdown",
   "metadata": {},
   "source": [
    "#### Conv1D"
   ]
  },
  {
   "cell_type": "code",
   "execution_count": 12,
   "metadata": {
    "collapsed": true
   },
   "outputs": [],
   "source": [
    "y = Conv1D(8, 11, padding='same', kernel_initializer='he_uniform')(ip)\n",
    "y = BatchNormalization()(y)\n",
    "y = Activation('relu')(y)"
   ]
  },
  {
   "cell_type": "code",
   "execution_count": 13,
   "metadata": {
    "collapsed": true
   },
   "outputs": [],
   "source": [
    "y = Conv1D(16, 11, padding='same', kernel_initializer='he_uniform')(y)\n",
    "y = BatchNormalization()(y)\n",
    "y = Activation('relu')(y)"
   ]
  },
  {
   "cell_type": "code",
   "execution_count": 14,
   "metadata": {
    "collapsed": true
   },
   "outputs": [],
   "source": [
    "y = Conv1D(32, 11, padding='same', kernel_initializer='he_uniform')(y)\n",
    "y = BatchNormalization()(y)\n",
    "y = Activation('relu')(y)"
   ]
  },
  {
   "cell_type": "code",
   "execution_count": 15,
   "metadata": {
    "collapsed": true
   },
   "outputs": [],
   "source": [
    "y = Conv1D(64, 11, padding='same', kernel_initializer='he_uniform')(y)\n",
    "y = BatchNormalization()(y)\n",
    "y = Activation('relu')(y)"
   ]
  },
  {
   "cell_type": "code",
   "execution_count": 16,
   "metadata": {
    "collapsed": true
   },
   "outputs": [],
   "source": [
    "y = GlobalAveragePooling1D()(y)"
   ]
  },
  {
   "cell_type": "markdown",
   "metadata": {
    "collapsed": true
   },
   "source": [
    "#### Concat"
   ]
  },
  {
   "cell_type": "code",
   "execution_count": 17,
   "metadata": {
    "collapsed": true
   },
   "outputs": [],
   "source": [
    "x = concatenate([x, y])"
   ]
  },
  {
   "cell_type": "code",
   "execution_count": 18,
   "metadata": {
    "collapsed": true
   },
   "outputs": [],
   "source": [
    "out = Dense(1, activation='sigmoid')(x)"
   ]
  },
  {
   "cell_type": "code",
   "execution_count": 19,
   "metadata": {},
   "outputs": [
    {
     "name": "stdout",
     "output_type": "stream",
     "text": [
      "__________________________________________________________________________________________________\n",
      "Layer (type)                    Output Shape         Param #     Connected to                     \n",
      "==================================================================================================\n",
      "input_1 (InputLayer)            (None, 3197, 1)      0                                            \n",
      "__________________________________________________________________________________________________\n",
      "conv1d_1 (Conv1D)               (None, 3197, 8)      96          input_1[0][0]                    \n",
      "__________________________________________________________________________________________________\n",
      "batch_normalization_1 (BatchNor (None, 3197, 8)      32          conv1d_1[0][0]                   \n",
      "__________________________________________________________________________________________________\n",
      "activation_1 (Activation)       (None, 3197, 8)      0           batch_normalization_1[0][0]      \n",
      "__________________________________________________________________________________________________\n",
      "conv1d_2 (Conv1D)               (None, 3197, 16)     1424        activation_1[0][0]               \n",
      "__________________________________________________________________________________________________\n",
      "batch_normalization_2 (BatchNor (None, 3197, 16)     64          conv1d_2[0][0]                   \n",
      "__________________________________________________________________________________________________\n",
      "activation_2 (Activation)       (None, 3197, 16)     0           batch_normalization_2[0][0]      \n",
      "__________________________________________________________________________________________________\n",
      "conv1d_3 (Conv1D)               (None, 3197, 32)     5664        activation_2[0][0]               \n",
      "__________________________________________________________________________________________________\n",
      "batch_normalization_3 (BatchNor (None, 3197, 32)     128         conv1d_3[0][0]                   \n",
      "__________________________________________________________________________________________________\n",
      "activation_3 (Activation)       (None, 3197, 32)     0           batch_normalization_3[0][0]      \n",
      "__________________________________________________________________________________________________\n",
      "conv1d_4 (Conv1D)               (None, 3197, 64)     22592       activation_3[0][0]               \n",
      "__________________________________________________________________________________________________\n",
      "permute_1 (Permute)             (None, 1, 3197)      0           input_1[0][0]                    \n",
      "__________________________________________________________________________________________________\n",
      "batch_normalization_4 (BatchNor (None, 3197, 64)     256         conv1d_4[0][0]                   \n",
      "__________________________________________________________________________________________________\n",
      "bidirectional_1 (Bidirectional) (None, 16)           205184      permute_1[0][0]                  \n",
      "__________________________________________________________________________________________________\n",
      "activation_4 (Activation)       (None, 3197, 64)     0           batch_normalization_4[0][0]      \n",
      "__________________________________________________________________________________________________\n",
      "dropout_1 (Dropout)             (None, 16)           0           bidirectional_1[0][0]            \n",
      "__________________________________________________________________________________________________\n",
      "global_average_pooling1d_1 (Glo (None, 64)           0           activation_4[0][0]               \n",
      "__________________________________________________________________________________________________\n",
      "concatenate_1 (Concatenate)     (None, 80)           0           dropout_1[0][0]                  \n",
      "                                                                 global_average_pooling1d_1[0][0] \n",
      "__________________________________________________________________________________________________\n",
      "dense_1 (Dense)                 (None, 1)            81          concatenate_1[0][0]              \n",
      "==================================================================================================\n",
      "Total params: 235,521\n",
      "Trainable params: 235,281\n",
      "Non-trainable params: 240\n",
      "__________________________________________________________________________________________________\n"
     ]
    }
   ],
   "source": [
    "model = Model(ip, out)\n",
    "model.summary()"
   ]
  },
  {
   "cell_type": "code",
   "execution_count": 20,
   "metadata": {
    "collapsed": true
   },
   "outputs": [],
   "source": [
    "def batch_generator(x_train, y_train, batch_size=32):\n",
    "    \"\"\"\n",
    "    Gives equal number of positive and negative samples, and rotates them randomly in time\n",
    "    \"\"\"\n",
    "    half_batch = batch_size // 2\n",
    "    x_batch = np.empty((batch_size, x_train.shape[1], x_train.shape[2]), dtype='float32')\n",
    "    y_batch = np.empty((batch_size, y_train.shape[1]), dtype='float32')\n",
    "    \n",
    "    yes_idx = np.where(y_train[:,0] == 1.)[0]\n",
    "    non_idx = np.where(y_train[:,0] == 0.)[0]\n",
    "    \n",
    "    while True:\n",
    "        np.random.shuffle(yes_idx)\n",
    "        np.random.shuffle(non_idx)\n",
    "    \n",
    "        x_batch[:half_batch] = x_train[yes_idx[:half_batch]]\n",
    "        x_batch[half_batch:] = x_train[non_idx[half_batch:batch_size]]\n",
    "        y_batch[:half_batch] = y_train[yes_idx[:half_batch]]\n",
    "        y_batch[half_batch:] = y_train[non_idx[half_batch:batch_size]]\n",
    "    \n",
    "        for i in range(batch_size):\n",
    "            sz = np.random.randint(x_batch.shape[1])\n",
    "            x_batch[i] = np.roll(x_batch[i], sz, axis = 0)\n",
    "     \n",
    "        yield x_batch, y_batch"
   ]
  },
  {
   "cell_type": "code",
   "execution_count": null,
   "metadata": {
    "collapsed": true
   },
   "outputs": [],
   "source": [
    "model.compile(optimizer=SGD(lr=0.01, momentum=0.8), loss='binary_crossentropy', metrics=['accuracy'])"
   ]
  },
  {
   "cell_type": "code",
   "execution_count": null,
   "metadata": {
    "collapsed": true
   },
   "outputs": [],
   "source": [
    "model.compile(optimizer=Adam(1e-5), loss='binary_crossentropy', metrics=['accuracy'])"
   ]
  },
  {
   "cell_type": "code",
   "execution_count": null,
   "metadata": {
    "collapsed": true
   },
   "outputs": [],
   "source": [
    "model.compile(optimizer=Adam(4e-5), loss='binary_crossentropy', metrics=['accuracy'])"
   ]
  },
  {
   "cell_type": "code",
   "execution_count": 21,
   "metadata": {
    "collapsed": true
   },
   "outputs": [],
   "source": [
    "model.compile(optimizer='adam', loss='binary_crossentropy', metrics=['accuracy'])"
   ]
  },
  {
   "cell_type": "code",
   "execution_count": 22,
   "metadata": {},
   "outputs": [
    {
     "name": "stdout",
     "output_type": "stream",
     "text": [
      "Epoch 1/40\n",
      "99/99 [==============================] - 38s 388ms/step - loss: 0.4842 - acc: 0.7576 - val_loss: 0.1472 - val_acc: 0.9437\n",
      "Epoch 2/40\n",
      "99/99 [==============================] - 32s 324ms/step - loss: 0.3898 - acc: 0.8182 - val_loss: 0.0585 - val_acc: 0.9908\n",
      "Epoch 3/40\n",
      "99/99 [==============================] - 32s 323ms/step - loss: 0.3139 - acc: 0.8737 - val_loss: 0.0556 - val_acc: 0.9902\n",
      "Epoch 4/40\n",
      "99/99 [==============================] - 32s 324ms/step - loss: 0.2421 - acc: 0.9223 - val_loss: 0.0882 - val_acc: 0.9823\n",
      "Epoch 5/40\n",
      "99/99 [==============================] - 32s 324ms/step - loss: 0.1610 - acc: 0.9599 - val_loss: 0.0760 - val_acc: 0.9856\n",
      "Epoch 6/40\n",
      "99/99 [==============================] - 32s 324ms/step - loss: 0.1430 - acc: 0.9672 - val_loss: 0.1435 - val_acc: 0.9692\n",
      "Epoch 7/40\n",
      "99/99 [==============================] - 32s 323ms/step - loss: 0.1212 - acc: 0.9706 - val_loss: 0.1424 - val_acc: 0.9601\n",
      "Epoch 8/40\n",
      "99/99 [==============================] - 32s 324ms/step - loss: 0.0856 - acc: 0.9833 - val_loss: 0.2240 - val_acc: 0.9201\n",
      "Epoch 9/40\n",
      "99/99 [==============================] - 32s 324ms/step - loss: 0.0641 - acc: 0.9864 - val_loss: 0.0537 - val_acc: 0.9889\n",
      "Epoch 10/40\n",
      "99/99 [==============================] - 32s 324ms/step - loss: 0.0445 - acc: 0.9946 - val_loss: 0.0888 - val_acc: 0.9771\n",
      "Epoch 11/40\n",
      "99/99 [==============================] - 32s 323ms/step - loss: 0.0524 - acc: 0.9864 - val_loss: 0.9476 - val_acc: 0.5966\n",
      "Epoch 12/40\n",
      "99/99 [==============================] - 32s 324ms/step - loss: 0.0475 - acc: 0.9918 - val_loss: 0.0595 - val_acc: 0.9921\n",
      "Epoch 13/40\n",
      "99/99 [==============================] - 32s 324ms/step - loss: 0.0288 - acc: 0.9962 - val_loss: 0.0435 - val_acc: 0.9895\n",
      "Epoch 14/40\n",
      "99/99 [==============================] - 32s 324ms/step - loss: 0.0334 - acc: 0.9912 - val_loss: 0.0480 - val_acc: 0.9876\n",
      "Epoch 15/40\n",
      "99/99 [==============================] - 32s 324ms/step - loss: 0.0446 - acc: 0.9877 - val_loss: 2.8156 - val_acc: 0.2299\n",
      "Epoch 16/40\n",
      "99/99 [==============================] - 32s 324ms/step - loss: 0.0258 - acc: 0.9946 - val_loss: 1.0301 - val_acc: 0.5999\n",
      "Epoch 17/40\n",
      "99/99 [==============================] - 32s 323ms/step - loss: 0.0314 - acc: 0.9940 - val_loss: 0.0621 - val_acc: 0.9876\n",
      "Epoch 18/40\n",
      "99/99 [==============================] - 32s 324ms/step - loss: 0.0234 - acc: 0.9946 - val_loss: 0.0659 - val_acc: 0.9823\n",
      "Epoch 19/40\n",
      "99/99 [==============================] - 32s 324ms/step - loss: 0.0189 - acc: 0.9968 - val_loss: 0.0395 - val_acc: 0.9915\n",
      "Epoch 20/40\n",
      "99/99 [==============================] - 32s 324ms/step - loss: 0.0271 - acc: 0.9931 - val_loss: 0.2780 - val_acc: 0.8959\n",
      "Epoch 21/40\n",
      "99/99 [==============================] - 32s 324ms/step - loss: 0.0221 - acc: 0.9943 - val_loss: 0.0371 - val_acc: 0.9921\n",
      "Epoch 22/40\n",
      "99/99 [==============================] - 32s 324ms/step - loss: 0.0121 - acc: 0.9978 - val_loss: 0.1097 - val_acc: 0.9627\n",
      "Epoch 23/40\n",
      "99/99 [==============================] - 32s 324ms/step - loss: 0.0284 - acc: 0.9915 - val_loss: 0.0460 - val_acc: 0.9895\n",
      "Epoch 24/40\n",
      "99/99 [==============================] - 32s 324ms/step - loss: 0.0164 - acc: 0.9962 - val_loss: 0.0481 - val_acc: 0.9876\n",
      "Epoch 25/40\n",
      "99/99 [==============================] - 32s 324ms/step - loss: 0.0080 - acc: 0.9987 - val_loss: 0.0575 - val_acc: 0.9921\n",
      "Epoch 26/40\n",
      "99/99 [==============================] - 32s 324ms/step - loss: 0.0132 - acc: 0.9968 - val_loss: 0.0544 - val_acc: 0.9876\n",
      "Epoch 27/40\n",
      "99/99 [==============================] - 32s 323ms/step - loss: 0.0101 - acc: 0.9978 - val_loss: 0.0890 - val_acc: 0.9928\n",
      "Epoch 28/40\n",
      "99/99 [==============================] - 32s 323ms/step - loss: 0.0287 - acc: 0.9949 - val_loss: 0.0432 - val_acc: 0.9915\n",
      "Epoch 29/40\n",
      "99/99 [==============================] - 32s 326ms/step - loss: 0.0049 - acc: 0.9997 - val_loss: 0.0408 - val_acc: 0.9928\n",
      "Epoch 30/40\n",
      "99/99 [==============================] - 32s 323ms/step - loss: 0.0102 - acc: 0.9984 - val_loss: 2.0959 - val_acc: 0.4250\n",
      "Epoch 31/40\n",
      "99/99 [==============================] - 32s 327ms/step - loss: 0.0206 - acc: 0.9949 - val_loss: 0.0457 - val_acc: 0.9928\n",
      "Epoch 32/40\n",
      "99/99 [==============================] - 32s 328ms/step - loss: 0.0144 - acc: 0.9978 - val_loss: 0.0627 - val_acc: 0.9862\n",
      "Epoch 33/40\n",
      "99/99 [==============================] - 32s 327ms/step - loss: 0.0091 - acc: 0.9984 - val_loss: 0.1266 - val_acc: 0.9587\n",
      "Epoch 34/40\n",
      "99/99 [==============================] - 32s 327ms/step - loss: 0.0075 - acc: 0.9987 - val_loss: 0.0602 - val_acc: 0.9908\n",
      "Epoch 35/40\n",
      "99/99 [==============================] - 32s 324ms/step - loss: 0.0065 - acc: 0.9987 - val_loss: 0.0560 - val_acc: 0.9915\n",
      "Epoch 36/40\n",
      "99/99 [==============================] - 32s 323ms/step - loss: 0.0048 - acc: 0.9994 - val_loss: 0.0539 - val_acc: 0.9915\n",
      "Epoch 37/40\n",
      "99/99 [==============================] - 32s 323ms/step - loss: 0.0055 - acc: 0.9987 - val_loss: 0.0433 - val_acc: 0.9941\n",
      "Epoch 38/40\n",
      "99/99 [==============================] - 32s 323ms/step - loss: 0.0051 - acc: 0.9991 - val_loss: 0.0402 - val_acc: 0.9915\n",
      "Epoch 39/40\n",
      "99/99 [==============================] - 32s 323ms/step - loss: 0.0234 - acc: 0.9931 - val_loss: 0.0611 - val_acc: 0.9921\n",
      "Epoch 40/40\n",
      "99/99 [==============================] - 32s 323ms/step - loss: 0.0051 - acc: 0.9991 - val_loss: 0.0690 - val_acc: 0.9836\n"
     ]
    }
   ],
   "source": [
    "hist = model.fit_generator(batch_generator(X_train_r, y_train, 32), \n",
    "                           validation_data=(X_val_r, y_val), \n",
    "                           epochs=40,\n",
    "                           steps_per_epoch=X_train_r.shape[1]//32)"
   ]
  },
  {
   "cell_type": "code",
   "execution_count": 23,
   "metadata": {
    "collapsed": true
   },
   "outputs": [],
   "source": [
    "y_pred = model.predict(x=x_test)"
   ]
  },
  {
   "cell_type": "code",
   "execution_count": 24,
   "metadata": {},
   "outputs": [
    {
     "data": {
      "image/png": "[encoded data removed]",
      "text/plain": [
       "<matplotlib.figure.Figure at 0x1ea314c10f0>"
      ]
     },
     "metadata": {},
     "output_type": "display_data"
    },
    {
     "data": {
      "image/png": "[encoded data removed]",
      "text/plain": [
       "<matplotlib.figure.Figure at 0x1ea2e92feb8>"
      ]
     },
     "metadata": {},
     "output_type": "display_data"
    }
   ],
   "source": [
    "non_idx = np.where(y_test[:,0] == 0.)[0]\n",
    "yes_idx = np.where(y_test[:,0] == 1.)[0]\n",
    "plt.plot([y_pred[i] for i in yes_idx], 'bo')\n",
    "plt.show()\n",
    "plt.plot([y_pred[i] for i in non_idx], 'ro')\n",
    "plt.show()"
   ]
  },
  {
   "cell_type": "code",
   "execution_count": 25,
   "metadata": {},
   "outputs": [
    {
     "data": {
      "image/png": "[encoded data removed]",
      "text/plain": [
       "<matplotlib.figure.Figure at 0x1ea1b80cc88>"
      ]
     },
     "metadata": {},
     "output_type": "display_data"
    },
    {
     "name": "stdout",
     "output_type": "stream",
     "text": [
      "Crossover at 0.99 with specificity 1.00\n"
     ]
    },
    {
     "data": {
      "image/png": "[encoded data removed]",
      "text/plain": [
       "<matplotlib.figure.Figure at 0x1ea2f6f5e80>"
      ]
     },
     "metadata": {},
     "output_type": "display_data"
    },
    {
     "name": "stdout",
     "output_type": "stream",
     "text": [
      "ROC area under curve is 1.00\n"
     ]
    }
   ],
   "source": [
    "y_true = (y_test[:, 0] + 0.5).astype(\"int\")\n",
    "fpr, tpr, thresholds = roc_curve(y_true, y_pred)\n",
    "plt.plot(thresholds, 1.-fpr)\n",
    "plt.plot(thresholds, tpr)\n",
    "plt.show()\n",
    "crossover_index = np.min(np.where(1.-fpr <= tpr))\n",
    "crossover_cutoff = thresholds[crossover_index]\n",
    "crossover_specificity = 1.-fpr[crossover_index]\n",
    "print(\"Crossover at {0:.2f} with specificity {1:.2f}\".format(crossover_cutoff, crossover_specificity))\n",
    "plt.plot(fpr, tpr)\n",
    "plt.show()\n",
    "print(\"ROC area under curve is {0:.2f}\".format(roc_auc_score(y_true, y_pred)))"
   ]
  },
  {
   "cell_type": "code",
   "execution_count": 26,
   "metadata": {
    "collapsed": true
   },
   "outputs": [],
   "source": [
    "predy = np.where(y_pred > 0.99, 1, 0)"
   ]
  },
  {
   "cell_type": "code",
   "execution_count": null,
   "metadata": {
    "collapsed": true
   },
   "outputs": [],
   "source": [
    "predy"
   ]
  },
  {
   "cell_type": "code",
   "execution_count": null,
   "metadata": {
    "collapsed": true
   },
   "outputs": [],
   "source": [
    "print([y_pred[i] for i in yes_idx])"
   ]
  },
  {
   "cell_type": "code",
   "execution_count": 27,
   "metadata": {
    "collapsed": true,
    "scrolled": true
   },
   "outputs": [],
   "source": [
    "y_pred_bool = y_uniques[predy.argmax(1)]"
   ]
  },
  {
   "cell_type": "code",
   "execution_count": null,
   "metadata": {
    "collapsed": true
   },
   "outputs": [],
   "source": [
    "y_pred_bool"
   ]
  },
  {
   "cell_type": "code",
   "execution_count": null,
   "metadata": {
    "collapsed": true
   },
   "outputs": [],
   "source": [
    "sum(((y_pred_bool == y_test) & (y_test == 1)))"
   ]
  },
  {
   "cell_type": "code",
   "execution_count": 29,
   "metadata": {},
   "outputs": [
    {
     "name": "stdout",
     "output_type": "stream",
     "text": [
      "             precision    recall  f1-score   support\n",
      "\n",
      "        0.0       1.00      1.00      1.00       565\n",
      "        1.0       0.83      1.00      0.91         5\n",
      "\n",
      "avg / total       1.00      1.00      1.00       570\n",
      "\n"
     ]
    }
   ],
   "source": [
    "print(classification_report(y_test, predy))"
   ]
  },
  {
   "cell_type": "code",
   "execution_count": 30,
   "metadata": {},
   "outputs": [
    {
     "name": "stdout",
     "output_type": "stream",
     "text": [
      "[[564   1]\n",
      " [  0   5]]\n"
     ]
    }
   ],
   "source": [
    "print(confusion_matrix(y_test, predy))"
   ]
  },
  {
   "cell_type": "code",
   "execution_count": 31,
   "metadata": {
    "collapsed": true
   },
   "outputs": [],
   "source": [
    "tn, fp, fn, tp = confusion_matrix(y_test, predy).ravel()"
   ]
  },
  {
   "cell_type": "code",
   "execution_count": 32,
   "metadata": {},
   "outputs": [
    {
     "data": {
      "text/plain": [
       "564"
      ]
     },
     "execution_count": 32,
     "metadata": {},
     "output_type": "execute_result"
    }
   ],
   "source": [
    "tn"
   ]
  },
  {
   "cell_type": "code",
   "execution_count": 33,
   "metadata": {
    "scrolled": true
   },
   "outputs": [
    {
     "data": {
      "text/plain": [
       "5"
      ]
     },
     "execution_count": 33,
     "metadata": {},
     "output_type": "execute_result"
    }
   ],
   "source": [
    "tp"
   ]
  },
  {
   "cell_type": "code",
   "execution_count": 34,
   "metadata": {},
   "outputs": [
    {
     "data": {
      "text/plain": [
       "0"
      ]
     },
     "execution_count": 34,
     "metadata": {},
     "output_type": "execute_result"
    }
   ],
   "source": [
    "fn"
   ]
  },
  {
   "cell_type": "code",
   "execution_count": 35,
   "metadata": {},
   "outputs": [
    {
     "data": {
      "text/plain": [
       "1"
      ]
     },
     "execution_count": 35,
     "metadata": {},
     "output_type": "execute_result"
    }
   ],
   "source": [
    "fp"
   ]
  },
  {
   "cell_type": "code",
   "execution_count": null,
   "metadata": {
    "collapsed": true
   },
   "outputs": [],
   "source": [
    "# model.save('models/my_model.h5')\n",
    "\n",
    "# from keras.models import load_model\n",
    "\n",
    "# model.save('my_model.h5') "
   ]
  },
  {
   "cell_type": "markdown",
   "metadata": {},
   "source": []
  },
  {
   "cell_type": "code",
   "execution_count": null,
   "metadata": {
    "collapsed": true
   },
   "outputs": [],
   "source": []
  }
 ],
 "metadata": {
  "kernelspec": {
   "display_name": "Python 3",
   "language": "python",
   "name": "python3"
  },
  "language_info": {
   "codemirror_mode": {
    "name": "ipython",
    "version": 3
   },
   "file_extension": ".py",
   "mimetype": "text/x-python",
   "name": "python",
   "nbconvert_exporter": "python",
   "pygments_lexer": "ipython3",
   "version": "3.6.3"
  }
 },
 "nbformat": 4,
 "nbformat_minor": 2
}
